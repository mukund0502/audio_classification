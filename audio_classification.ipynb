{
  "cells": [
    {
      "cell_type": "code",
      "execution_count": null,
      "metadata": {
        "colab": {
          "base_uri": "https://localhost:8080/"
        },
        "id": "Bcc3jqi5kvQH",
        "outputId": "7f64b92d-7b92-4422-f777-588937458f64"
      },
      "outputs": [
        {
          "name": "stdout",
          "output_type": "stream",
          "text": [
            "--2024-02-03 11:08:04--  https://zenodo.org/records/1203745/files/UrbanSound8K.tar.gz\n",
            "Resolving zenodo.org (zenodo.org)... 188.185.79.172, 188.184.103.159, 188.184.98.238, ...\n",
            "Connecting to zenodo.org (zenodo.org)|188.185.79.172|:443... connected.\n",
            "HTTP request sent, awaiting response... 200 OK\n",
            "Length: 6023741708 (5.6G) [application/octet-stream]\n",
            "Saving to: ‘UrbanSound8K.tar.gz’\n",
            "\n",
            "UrbanSound8K.tar.gz 100%[===================>]   5.61G  20.3MB/s    in 4m 51s  \n",
            "\n",
            "2024-02-03 11:12:56 (19.7 MB/s) - ‘UrbanSound8K.tar.gz’ saved [6023741708/6023741708]\n",
            "\n"
          ]
        }
      ],
      "source": [
        "!wget https://zenodo.org/records/1203745/files/UrbanSound8K.tar.gz"
      ]
    },
    {
      "cell_type": "code",
      "execution_count": null,
      "metadata": {
        "colab": {
          "base_uri": "https://localhost:8080/"
        },
        "id": "2S9UqKucrx7g",
        "outputId": "83d06afd-e37a-42f1-b967-d86c462f8522"
      },
      "outputs": [
        {
          "name": "stdout",
          "output_type": "stream",
          "text": [
            "\u001b[31mERROR: Could not find a version that satisfies the requirement shutil (from versions: none)\u001b[0m\u001b[31m\n",
            "\u001b[0m\u001b[31mERROR: No matching distribution found for shutil\u001b[0m\u001b[31m\n",
            "\u001b[0m"
          ]
        }
      ],
      "source": [
        "import shutil\n",
        "shutil.unpack_archive(\"/content/UrbanSound8K.tar.gz\")"
      ]
    },
    {
      "cell_type": "code",
      "execution_count": null,
      "metadata": {
        "colab": {
          "base_uri": "https://localhost:8080/"
        },
        "id": "DRR5PUEGsNI-",
        "outputId": "454d76fa-1ce1-4823-f65f-df716ee912a1"
      },
      "outputs": [
        {
          "name": "stdout",
          "output_type": "stream",
          "text": [
            "Mounted at /content/drive\n"
          ]
        }
      ],
      "source": [
        "from google.colab import drive\n",
        "drive.mount('/content/drive')"
      ]
    },
    {
      "cell_type": "code",
      "execution_count": null,
      "metadata": {
        "id": "q6RFB9u2sGdr"
      },
      "outputs": [],
      "source": [
        "!cp \"/content/UrbanSound8K.tar.gz\" \"/content/drive/MyDrive/learn_audio-classification\""
      ]
    },
    {
      "cell_type": "code",
      "execution_count": null,
      "metadata": {
        "colab": {
          "base_uri": "https://localhost:8080/"
        },
        "id": "pEG39WMqrQsD",
        "outputId": "6056bb77-49db-43fd-be92-ddbaf2cfbc48"
      },
      "outputs": [
        {
          "name": "stdout",
          "output_type": "stream",
          "text": [
            "Requirement already satisfied: librosa in /usr/local/lib/python3.10/dist-packages (0.10.1)\n",
            "Requirement already satisfied: audioread>=2.1.9 in /usr/local/lib/python3.10/dist-packages (from librosa) (3.0.1)\n",
            "Requirement already satisfied: numpy!=1.22.0,!=1.22.1,!=1.22.2,>=1.20.3 in /usr/local/lib/python3.10/dist-packages (from librosa) (1.23.5)\n",
            "Requirement already satisfied: scipy>=1.2.0 in /usr/local/lib/python3.10/dist-packages (from librosa) (1.11.4)\n",
            "Requirement already satisfied: scikit-learn>=0.20.0 in /usr/local/lib/python3.10/dist-packages (from librosa) (1.2.2)\n",
            "Requirement already satisfied: joblib>=0.14 in /usr/local/lib/python3.10/dist-packages (from librosa) (1.3.2)\n",
            "Requirement already satisfied: decorator>=4.3.0 in /usr/local/lib/python3.10/dist-packages (from librosa) (4.4.2)\n",
            "Requirement already satisfied: numba>=0.51.0 in /usr/local/lib/python3.10/dist-packages (from librosa) (0.58.1)\n",
            "Requirement already satisfied: soundfile>=0.12.1 in /usr/local/lib/python3.10/dist-packages (from librosa) (0.12.1)\n",
            "Requirement already satisfied: pooch>=1.0 in /usr/local/lib/python3.10/dist-packages (from librosa) (1.8.0)\n",
            "Requirement already satisfied: soxr>=0.3.2 in /usr/local/lib/python3.10/dist-packages (from librosa) (0.3.7)\n",
            "Requirement already satisfied: typing-extensions>=4.1.1 in /usr/local/lib/python3.10/dist-packages (from librosa) (4.5.0)\n",
            "Requirement already satisfied: lazy-loader>=0.1 in /usr/local/lib/python3.10/dist-packages (from librosa) (0.3)\n",
            "Requirement already satisfied: msgpack>=1.0 in /usr/local/lib/python3.10/dist-packages (from librosa) (1.0.7)\n",
            "Requirement already satisfied: llvmlite<0.42,>=0.41.0dev0 in /usr/local/lib/python3.10/dist-packages (from numba>=0.51.0->librosa) (0.41.1)\n",
            "Requirement already satisfied: platformdirs>=2.5.0 in /usr/local/lib/python3.10/dist-packages (from pooch>=1.0->librosa) (4.2.0)\n",
            "Requirement already satisfied: packaging>=20.0 in /usr/local/lib/python3.10/dist-packages (from pooch>=1.0->librosa) (23.2)\n",
            "Requirement already satisfied: requests>=2.19.0 in /usr/local/lib/python3.10/dist-packages (from pooch>=1.0->librosa) (2.31.0)\n",
            "Requirement already satisfied: threadpoolctl>=2.0.0 in /usr/local/lib/python3.10/dist-packages (from scikit-learn>=0.20.0->librosa) (3.2.0)\n",
            "Requirement already satisfied: cffi>=1.0 in /usr/local/lib/python3.10/dist-packages (from soundfile>=0.12.1->librosa) (1.16.0)\n",
            "Requirement already satisfied: pycparser in /usr/local/lib/python3.10/dist-packages (from cffi>=1.0->soundfile>=0.12.1->librosa) (2.21)\n",
            "Requirement already satisfied: charset-normalizer<4,>=2 in /usr/local/lib/python3.10/dist-packages (from requests>=2.19.0->pooch>=1.0->librosa) (3.3.2)\n",
            "Requirement already satisfied: idna<4,>=2.5 in /usr/local/lib/python3.10/dist-packages (from requests>=2.19.0->pooch>=1.0->librosa) (3.6)\n",
            "Requirement already satisfied: urllib3<3,>=1.21.1 in /usr/local/lib/python3.10/dist-packages (from requests>=2.19.0->pooch>=1.0->librosa) (2.0.7)\n",
            "Requirement already satisfied: certifi>=2017.4.17 in /usr/local/lib/python3.10/dist-packages (from requests>=2.19.0->pooch>=1.0->librosa) (2023.11.17)\n"
          ]
        }
      ],
      "source": [
        "!pip install librosa"
      ]
    },
    {
      "cell_type": "code",
      "execution_count": null,
      "metadata": {
        "id": "oYNS7Kt-tUAO"
      },
      "outputs": [],
      "source": [
        "import librosa\n",
        "audio_data, sample_rate = librosa.load('/content/UrbanSound8K/audio/fold1/101415-3-0-2.wav')"
      ]
    },
    {
      "cell_type": "code",
      "execution_count": null,
      "metadata": {
        "colab": {
          "base_uri": "https://localhost:8080/"
        },
        "id": "geulxaspt8eh",
        "outputId": "9427c65c-4c6d-4509-976f-84eb1d923ab2"
      },
      "outputs": [
        {
          "data": {
            "text/plain": [
              "(array([-0.00011485, -0.00017083, -0.00017736, ..., -0.04609928,\n",
              "        -0.04609471, -0.05099387], dtype=float32),\n",
              " (88200,))"
            ]
          },
          "execution_count": 17,
          "metadata": {},
          "output_type": "execute_result"
        }
      ],
      "source": [
        "audio_data, audio_data.shape"
      ]
    },
    {
      "cell_type": "code",
      "execution_count": null,
      "metadata": {
        "colab": {
          "base_uri": "https://localhost:8080/"
        },
        "id": "v_dTPBwst-QE",
        "outputId": "c840fcca-9c3c-4fc2-ff8f-9575bd41cdce"
      },
      "outputs": [
        {
          "data": {
            "text/plain": [
              "22050"
            ]
          },
          "execution_count": 18,
          "metadata": {},
          "output_type": "execute_result"
        }
      ],
      "source": [
        "sample_rate"
      ]
    },
    {
      "cell_type": "code",
      "execution_count": null,
      "metadata": {
        "id": "knnQfaKLt_Xc"
      },
      "outputs": [],
      "source": [
        "audio_data, sample_rate = librosa.load('/content/UrbanSound8K/audio/fold1/102842-3-1-0.wav')"
      ]
    },
    {
      "cell_type": "code",
      "execution_count": null,
      "metadata": {
        "colab": {
          "base_uri": "https://localhost:8080/"
        },
        "id": "5bh6bDRnuO4V",
        "outputId": "402876be-aefe-427e-d6c8-d2a0de0a7352"
      },
      "outputs": [
        {
          "data": {
            "text/plain": [
              "(array([ 0.00742023,  0.00979148,  0.00830646, ..., -0.00846579,\n",
              "        -0.00804312, -0.01079349], dtype=float32),\n",
              " (88200,),\n",
              " 22050)"
            ]
          },
          "execution_count": 20,
          "metadata": {},
          "output_type": "execute_result"
        }
      ],
      "source": [
        "audio_data, audio_data.shape, sample_rate"
      ]
    },
    {
      "cell_type": "code",
      "execution_count": null,
      "metadata": {
        "colab": {
          "base_uri": "https://localhost:8080/"
        },
        "id": "idwZE7uauRmy",
        "outputId": "49df7862-f498-4876-e508-91e034dddca4"
      },
      "outputs": [
        {
          "data": {
            "text/plain": [
              "(array([[-4.01266266e+02, -3.82031769e+02, -3.80995331e+02, ...,\n",
              "         -3.69469574e+02, -3.67088440e+02, -3.75428650e+02],\n",
              "        [ 1.07394882e+02,  1.04264328e+02,  1.03939728e+02, ...,\n",
              "          1.19616837e+02,  1.21089195e+02,  1.19483215e+02],\n",
              "        [ 2.77272949e+01,  3.01472588e+01,  2.91092873e+01, ...,\n",
              "          3.78709564e+01,  3.66863251e+01,  3.36934967e+01],\n",
              "        ...,\n",
              "        [ 1.23870111e+00,  1.71230364e+00,  3.31807733e+00, ...,\n",
              "         -2.06129551e-02, -1.50218201e+00, -2.72790241e+00],\n",
              "        [-6.64531422e+00, -8.02330971e+00, -3.92108512e+00, ...,\n",
              "         -7.82035923e+00, -2.50892448e+00,  1.21789062e+00],\n",
              "        [-1.85728657e+00, -5.17095995e+00, -6.44906282e+00, ...,\n",
              "         -6.26367331e+00, -2.58269620e+00, -1.30357456e+00]], dtype=float32),\n",
              " (40, 173))"
            ]
          },
          "execution_count": 22,
          "metadata": {},
          "output_type": "execute_result"
        }
      ],
      "source": [
        "# extract features using mfcc youtube link : https://www.youtube.com/watch?v=4_SH2nfbQZ8&t=0s\n",
        "\n",
        "mfccs = librosa.feature.mfcc(y = audio_data, sr = sample_rate, n_mfcc=40)\n",
        "mfccs, mfccs.shape"
      ]
    },
    {
      "cell_type": "code",
      "execution_count": null,
      "metadata": {
        "id": "1qqUtYtBwg8b"
      },
      "outputs": [],
      "source": [
        "import pandas as pd\n",
        "import numpy as np\n",
        "import librosa"
      ]
    },
    {
      "cell_type": "code",
      "execution_count": null,
      "metadata": {
        "colab": {
          "base_uri": "https://localhost:8080/"
        },
        "id": "nec0Ts7Bworu",
        "outputId": "eb419dda-3d20-4983-93c7-f60784d27166"
      },
      "outputs": [
        {
          "data": {
            "text/plain": [
              "array([1.5, 3.5])"
            ]
          },
          "execution_count": 24,
          "metadata": {},
          "output_type": "execute_result"
        }
      ],
      "source": [
        "# import numpy as np\n",
        "# np.mean(np.array([[1,2],[3,4]]).T, axis = 0)"
      ]
    },
    {
      "cell_type": "code",
      "execution_count": null,
      "metadata": {
        "colab": {
          "base_uri": "https://localhost:8080/",
          "height": 206
        },
        "id": "34tnsBKKxQAw",
        "outputId": "5e01b521-2590-4459-8277-8cf2bc1f448e"
      },
      "outputs": [
        {
          "data": {
            "text/html": [
              "\n",
              "  <div id=\"df-1a8b86dc-fba0-4613-915c-d183daeabc32\" class=\"colab-df-container\">\n",
              "    <div>\n",
              "<style scoped>\n",
              "    .dataframe tbody tr th:only-of-type {\n",
              "        vertical-align: middle;\n",
              "    }\n",
              "\n",
              "    .dataframe tbody tr th {\n",
              "        vertical-align: top;\n",
              "    }\n",
              "\n",
              "    .dataframe thead th {\n",
              "        text-align: right;\n",
              "    }\n",
              "</style>\n",
              "<table border=\"1\" class=\"dataframe\">\n",
              "  <thead>\n",
              "    <tr style=\"text-align: right;\">\n",
              "      <th></th>\n",
              "      <th>slice_file_name</th>\n",
              "      <th>fsID</th>\n",
              "      <th>start</th>\n",
              "      <th>end</th>\n",
              "      <th>salience</th>\n",
              "      <th>fold</th>\n",
              "      <th>classID</th>\n",
              "      <th>class</th>\n",
              "    </tr>\n",
              "  </thead>\n",
              "  <tbody>\n",
              "    <tr>\n",
              "      <th>0</th>\n",
              "      <td>100032-3-0-0.wav</td>\n",
              "      <td>100032</td>\n",
              "      <td>0.0</td>\n",
              "      <td>0.317551</td>\n",
              "      <td>1</td>\n",
              "      <td>5</td>\n",
              "      <td>3</td>\n",
              "      <td>dog_bark</td>\n",
              "    </tr>\n",
              "    <tr>\n",
              "      <th>1</th>\n",
              "      <td>100263-2-0-117.wav</td>\n",
              "      <td>100263</td>\n",
              "      <td>58.5</td>\n",
              "      <td>62.500000</td>\n",
              "      <td>1</td>\n",
              "      <td>5</td>\n",
              "      <td>2</td>\n",
              "      <td>children_playing</td>\n",
              "    </tr>\n",
              "    <tr>\n",
              "      <th>2</th>\n",
              "      <td>100263-2-0-121.wav</td>\n",
              "      <td>100263</td>\n",
              "      <td>60.5</td>\n",
              "      <td>64.500000</td>\n",
              "      <td>1</td>\n",
              "      <td>5</td>\n",
              "      <td>2</td>\n",
              "      <td>children_playing</td>\n",
              "    </tr>\n",
              "    <tr>\n",
              "      <th>3</th>\n",
              "      <td>100263-2-0-126.wav</td>\n",
              "      <td>100263</td>\n",
              "      <td>63.0</td>\n",
              "      <td>67.000000</td>\n",
              "      <td>1</td>\n",
              "      <td>5</td>\n",
              "      <td>2</td>\n",
              "      <td>children_playing</td>\n",
              "    </tr>\n",
              "    <tr>\n",
              "      <th>4</th>\n",
              "      <td>100263-2-0-137.wav</td>\n",
              "      <td>100263</td>\n",
              "      <td>68.5</td>\n",
              "      <td>72.500000</td>\n",
              "      <td>1</td>\n",
              "      <td>5</td>\n",
              "      <td>2</td>\n",
              "      <td>children_playing</td>\n",
              "    </tr>\n",
              "  </tbody>\n",
              "</table>\n",
              "</div>\n",
              "    <div class=\"colab-df-buttons\">\n",
              "\n",
              "  <div class=\"colab-df-container\">\n",
              "    <button class=\"colab-df-convert\" onclick=\"convertToInteractive('df-1a8b86dc-fba0-4613-915c-d183daeabc32')\"\n",
              "            title=\"Convert this dataframe to an interactive table.\"\n",
              "            style=\"display:none;\">\n",
              "\n",
              "  <svg xmlns=\"http://www.w3.org/2000/svg\" height=\"24px\" viewBox=\"0 -960 960 960\">\n",
              "    <path d=\"M120-120v-720h720v720H120Zm60-500h600v-160H180v160Zm220 220h160v-160H400v160Zm0 220h160v-160H400v160ZM180-400h160v-160H180v160Zm440 0h160v-160H620v160ZM180-180h160v-160H180v160Zm440 0h160v-160H620v160Z\"/>\n",
              "  </svg>\n",
              "    </button>\n",
              "\n",
              "  <style>\n",
              "    .colab-df-container {\n",
              "      display:flex;\n",
              "      gap: 12px;\n",
              "    }\n",
              "\n",
              "    .colab-df-convert {\n",
              "      background-color: #E8F0FE;\n",
              "      border: none;\n",
              "      border-radius: 50%;\n",
              "      cursor: pointer;\n",
              "      display: none;\n",
              "      fill: #1967D2;\n",
              "      height: 32px;\n",
              "      padding: 0 0 0 0;\n",
              "      width: 32px;\n",
              "    }\n",
              "\n",
              "    .colab-df-convert:hover {\n",
              "      background-color: #E2EBFA;\n",
              "      box-shadow: 0px 1px 2px rgba(60, 64, 67, 0.3), 0px 1px 3px 1px rgba(60, 64, 67, 0.15);\n",
              "      fill: #174EA6;\n",
              "    }\n",
              "\n",
              "    .colab-df-buttons div {\n",
              "      margin-bottom: 4px;\n",
              "    }\n",
              "\n",
              "    [theme=dark] .colab-df-convert {\n",
              "      background-color: #3B4455;\n",
              "      fill: #D2E3FC;\n",
              "    }\n",
              "\n",
              "    [theme=dark] .colab-df-convert:hover {\n",
              "      background-color: #434B5C;\n",
              "      box-shadow: 0px 1px 3px 1px rgba(0, 0, 0, 0.15);\n",
              "      filter: drop-shadow(0px 1px 2px rgba(0, 0, 0, 0.3));\n",
              "      fill: #FFFFFF;\n",
              "    }\n",
              "  </style>\n",
              "\n",
              "    <script>\n",
              "      const buttonEl =\n",
              "        document.querySelector('#df-1a8b86dc-fba0-4613-915c-d183daeabc32 button.colab-df-convert');\n",
              "      buttonEl.style.display =\n",
              "        google.colab.kernel.accessAllowed ? 'block' : 'none';\n",
              "\n",
              "      async function convertToInteractive(key) {\n",
              "        const element = document.querySelector('#df-1a8b86dc-fba0-4613-915c-d183daeabc32');\n",
              "        const dataTable =\n",
              "          await google.colab.kernel.invokeFunction('convertToInteractive',\n",
              "                                                    [key], {});\n",
              "        if (!dataTable) return;\n",
              "\n",
              "        const docLinkHtml = 'Like what you see? Visit the ' +\n",
              "          '<a target=\"_blank\" href=https://colab.research.google.com/notebooks/data_table.ipynb>data table notebook</a>'\n",
              "          + ' to learn more about interactive tables.';\n",
              "        element.innerHTML = '';\n",
              "        dataTable['output_type'] = 'display_data';\n",
              "        await google.colab.output.renderOutput(dataTable, element);\n",
              "        const docLink = document.createElement('div');\n",
              "        docLink.innerHTML = docLinkHtml;\n",
              "        element.appendChild(docLink);\n",
              "      }\n",
              "    </script>\n",
              "  </div>\n",
              "\n",
              "\n",
              "<div id=\"df-71fd06df-7793-432a-beba-1b3eaee3652a\">\n",
              "  <button class=\"colab-df-quickchart\" onclick=\"quickchart('df-71fd06df-7793-432a-beba-1b3eaee3652a')\"\n",
              "            title=\"Suggest charts\"\n",
              "            style=\"display:none;\">\n",
              "\n",
              "<svg xmlns=\"http://www.w3.org/2000/svg\" height=\"24px\"viewBox=\"0 0 24 24\"\n",
              "     width=\"24px\">\n",
              "    <g>\n",
              "        <path d=\"M19 3H5c-1.1 0-2 .9-2 2v14c0 1.1.9 2 2 2h14c1.1 0 2-.9 2-2V5c0-1.1-.9-2-2-2zM9 17H7v-7h2v7zm4 0h-2V7h2v10zm4 0h-2v-4h2v4z\"/>\n",
              "    </g>\n",
              "</svg>\n",
              "  </button>\n",
              "\n",
              "<style>\n",
              "  .colab-df-quickchart {\n",
              "      --bg-color: #E8F0FE;\n",
              "      --fill-color: #1967D2;\n",
              "      --hover-bg-color: #E2EBFA;\n",
              "      --hover-fill-color: #174EA6;\n",
              "      --disabled-fill-color: #AAA;\n",
              "      --disabled-bg-color: #DDD;\n",
              "  }\n",
              "\n",
              "  [theme=dark] .colab-df-quickchart {\n",
              "      --bg-color: #3B4455;\n",
              "      --fill-color: #D2E3FC;\n",
              "      --hover-bg-color: #434B5C;\n",
              "      --hover-fill-color: #FFFFFF;\n",
              "      --disabled-bg-color: #3B4455;\n",
              "      --disabled-fill-color: #666;\n",
              "  }\n",
              "\n",
              "  .colab-df-quickchart {\n",
              "    background-color: var(--bg-color);\n",
              "    border: none;\n",
              "    border-radius: 50%;\n",
              "    cursor: pointer;\n",
              "    display: none;\n",
              "    fill: var(--fill-color);\n",
              "    height: 32px;\n",
              "    padding: 0;\n",
              "    width: 32px;\n",
              "  }\n",
              "\n",
              "  .colab-df-quickchart:hover {\n",
              "    background-color: var(--hover-bg-color);\n",
              "    box-shadow: 0 1px 2px rgba(60, 64, 67, 0.3), 0 1px 3px 1px rgba(60, 64, 67, 0.15);\n",
              "    fill: var(--button-hover-fill-color);\n",
              "  }\n",
              "\n",
              "  .colab-df-quickchart-complete:disabled,\n",
              "  .colab-df-quickchart-complete:disabled:hover {\n",
              "    background-color: var(--disabled-bg-color);\n",
              "    fill: var(--disabled-fill-color);\n",
              "    box-shadow: none;\n",
              "  }\n",
              "\n",
              "  .colab-df-spinner {\n",
              "    border: 2px solid var(--fill-color);\n",
              "    border-color: transparent;\n",
              "    border-bottom-color: var(--fill-color);\n",
              "    animation:\n",
              "      spin 1s steps(1) infinite;\n",
              "  }\n",
              "\n",
              "  @keyframes spin {\n",
              "    0% {\n",
              "      border-color: transparent;\n",
              "      border-bottom-color: var(--fill-color);\n",
              "      border-left-color: var(--fill-color);\n",
              "    }\n",
              "    20% {\n",
              "      border-color: transparent;\n",
              "      border-left-color: var(--fill-color);\n",
              "      border-top-color: var(--fill-color);\n",
              "    }\n",
              "    30% {\n",
              "      border-color: transparent;\n",
              "      border-left-color: var(--fill-color);\n",
              "      border-top-color: var(--fill-color);\n",
              "      border-right-color: var(--fill-color);\n",
              "    }\n",
              "    40% {\n",
              "      border-color: transparent;\n",
              "      border-right-color: var(--fill-color);\n",
              "      border-top-color: var(--fill-color);\n",
              "    }\n",
              "    60% {\n",
              "      border-color: transparent;\n",
              "      border-right-color: var(--fill-color);\n",
              "    }\n",
              "    80% {\n",
              "      border-color: transparent;\n",
              "      border-right-color: var(--fill-color);\n",
              "      border-bottom-color: var(--fill-color);\n",
              "    }\n",
              "    90% {\n",
              "      border-color: transparent;\n",
              "      border-bottom-color: var(--fill-color);\n",
              "    }\n",
              "  }\n",
              "</style>\n",
              "\n",
              "  <script>\n",
              "    async function quickchart(key) {\n",
              "      const quickchartButtonEl =\n",
              "        document.querySelector('#' + key + ' button');\n",
              "      quickchartButtonEl.disabled = true;  // To prevent multiple clicks.\n",
              "      quickchartButtonEl.classList.add('colab-df-spinner');\n",
              "      try {\n",
              "        const charts = await google.colab.kernel.invokeFunction(\n",
              "            'suggestCharts', [key], {});\n",
              "      } catch (error) {\n",
              "        console.error('Error during call to suggestCharts:', error);\n",
              "      }\n",
              "      quickchartButtonEl.classList.remove('colab-df-spinner');\n",
              "      quickchartButtonEl.classList.add('colab-df-quickchart-complete');\n",
              "    }\n",
              "    (() => {\n",
              "      let quickchartButtonEl =\n",
              "        document.querySelector('#df-71fd06df-7793-432a-beba-1b3eaee3652a button');\n",
              "      quickchartButtonEl.style.display =\n",
              "        google.colab.kernel.accessAllowed ? 'block' : 'none';\n",
              "    })();\n",
              "  </script>\n",
              "</div>\n",
              "    </div>\n",
              "  </div>\n"
            ],
            "text/plain": [
              "      slice_file_name    fsID  start        end  salience  fold  classID  \\\n",
              "0    100032-3-0-0.wav  100032    0.0   0.317551         1     5        3   \n",
              "1  100263-2-0-117.wav  100263   58.5  62.500000         1     5        2   \n",
              "2  100263-2-0-121.wav  100263   60.5  64.500000         1     5        2   \n",
              "3  100263-2-0-126.wav  100263   63.0  67.000000         1     5        2   \n",
              "4  100263-2-0-137.wav  100263   68.5  72.500000         1     5        2   \n",
              "\n",
              "              class  \n",
              "0          dog_bark  \n",
              "1  children_playing  \n",
              "2  children_playing  \n",
              "3  children_playing  \n",
              "4  children_playing  "
            ]
          },
          "execution_count": 31,
          "metadata": {},
          "output_type": "execute_result"
        }
      ],
      "source": [
        "csv_path = '/content/UrbanSound8K/metadata/UrbanSound8K.csv'\n",
        "audio_path = '/content/UrbanSound8K/audio/'\n",
        "dataset = pd.read_csv(csv_path)\n",
        "dataset.head()"
      ]
    },
    {
      "cell_type": "code",
      "execution_count": null,
      "metadata": {
        "id": "01BVMFAqyCkR"
      },
      "outputs": [],
      "source": [
        "def extract_features(file_address):\n",
        "  audio_data, sample_rate = librosa.load(file_address)\n",
        "  mfcc_feature = librosa.feature.mfcc(y = audio_data, sr = sample_rate, n_mfcc=40)\n",
        "  return np.mean(mfcc_feature.T, axis = 0), mfcc_feature\n"
      ]
    },
    {
      "cell_type": "code",
      "execution_count": null,
      "metadata": {
        "colab": {
          "base_uri": "https://localhost:8080/"
        },
        "id": "X-Jh4iogx7Io",
        "outputId": "f829fca6-b288-4e46-c233-71ff2dfbfae7"
      },
      "outputs": [
        {
          "name": "stderr",
          "output_type": "stream",
          "text": [
            "/usr/local/lib/python3.10/dist-packages/librosa/core/spectrum.py:257: UserWarning: n_fft=2048 is too large for input signal of length=1323\n",
            "  warnings.warn(\n",
            "/usr/local/lib/python3.10/dist-packages/librosa/core/spectrum.py:257: UserWarning: n_fft=2048 is too large for input signal of length=1103\n",
            "  warnings.warn(\n",
            "/usr/local/lib/python3.10/dist-packages/librosa/core/spectrum.py:257: UserWarning: n_fft=2048 is too large for input signal of length=1523\n",
            "  warnings.warn(\n"
          ]
        },
        {
          "data": {
            "text/plain": [
              "(8732, 8732)"
            ]
          },
          "execution_count": 39,
          "metadata": {},
          "output_type": "execute_result"
        }
      ],
      "source": [
        "x_mfcc, x_mfcc_mean = [], []\n",
        "for i in range(0, len(dataset['slice_file_name'])):\n",
        "  folder = f\"fold{dataset['fold'][i]}\"\n",
        "  file_address = f\"{audio_path}{folder}/{dataset['slice_file_name'][i]}\"\n",
        "  mfcc_feature_mean, mfcc_feature = extract_features(file_address)\n",
        "  x_mfcc.append(mfcc_feature)\n",
        "  x_mfcc_mean.append(mfcc_feature_mean)\n",
        "\n",
        "len(x_mfcc), len(x_mfcc_mean)\n",
        "# x_mfcc = np.array(x_mfcc)\n",
        "# x_mfcc_mean = np.array(x_mfcc_mean)\n",
        "\n",
        "# x_mfcc_mean.shape, x_mfcc.shape"
      ]
    },
    {
      "cell_type": "code",
      "execution_count": null,
      "metadata": {
        "id": "FEks810F0kPH"
      },
      "outputs": [],
      "source": [
        "feature_dataframe = pd.DataFrame({\"mfcc\" : x_mfcc, \"mfcc_mean\" : x_mfcc_mean, \"classid\" :  dataset['classID'], 'audio_name' : dataset['slice_file_name'], 'class_name' : dataset[\"class\"]})\n",
        "y = dataset['classID']"
      ]
    },
    {
      "cell_type": "code",
      "execution_count": null,
      "metadata": {
        "colab": {
          "base_uri": "https://localhost:8080/",
          "height": 423
        },
        "id": "LlvUZiUo0Awy",
        "outputId": "ec1d50e0-c4c3-4508-af00-91a987756e9f"
      },
      "outputs": [
        {
          "data": {
            "text/html": [
              "\n",
              "  <div id=\"df-fd69e5b3-c14f-41f8-8c22-7ac8a0401c29\" class=\"colab-df-container\">\n",
              "    <div>\n",
              "<style scoped>\n",
              "    .dataframe tbody tr th:only-of-type {\n",
              "        vertical-align: middle;\n",
              "    }\n",
              "\n",
              "    .dataframe tbody tr th {\n",
              "        vertical-align: top;\n",
              "    }\n",
              "\n",
              "    .dataframe thead th {\n",
              "        text-align: right;\n",
              "    }\n",
              "</style>\n",
              "<table border=\"1\" class=\"dataframe\">\n",
              "  <thead>\n",
              "    <tr style=\"text-align: right;\">\n",
              "      <th></th>\n",
              "      <th>mfcc</th>\n",
              "      <th>mfcc_mean</th>\n",
              "      <th>classid</th>\n",
              "      <th>audio_name</th>\n",
              "      <th>class_name</th>\n",
              "    </tr>\n",
              "  </thead>\n",
              "  <tbody>\n",
              "    <tr>\n",
              "      <th>0</th>\n",
              "      <td>[[-332.0388, -169.58775, -90.246826, -56.92347...</td>\n",
              "      <td>[-211.93698, 62.581215, -122.813156, -60.74529...</td>\n",
              "      <td>3</td>\n",
              "      <td>100032-3-0-0.wav</td>\n",
              "      <td>dog_bark</td>\n",
              "    </tr>\n",
              "    <tr>\n",
              "      <th>1</th>\n",
              "      <td>[[-486.0561, -447.30463, -441.84772, -436.2216...</td>\n",
              "      <td>[-417.0052, 99.336624, -42.995586, 51.073326, ...</td>\n",
              "      <td>2</td>\n",
              "      <td>100263-2-0-117.wav</td>\n",
              "      <td>children_playing</td>\n",
              "    </tr>\n",
              "    <tr>\n",
              "      <th>2</th>\n",
              "      <td>[[-492.76328, -465.86954, -473.96152, -480.512...</td>\n",
              "      <td>[-452.39316, 112.36253, -37.578075, 43.195866,...</td>\n",
              "      <td>2</td>\n",
              "      <td>100263-2-0-121.wav</td>\n",
              "      <td>children_playing</td>\n",
              "    </tr>\n",
              "    <tr>\n",
              "      <th>3</th>\n",
              "      <td>[[-441.2638, -405.2567, -401.20792, -400.8395,...</td>\n",
              "      <td>[-406.47922, 91.1966, -25.043556, 42.78452, 11...</td>\n",
              "      <td>2</td>\n",
              "      <td>100263-2-0-126.wav</td>\n",
              "      <td>children_playing</td>\n",
              "    </tr>\n",
              "    <tr>\n",
              "      <th>4</th>\n",
              "      <td>[[-467.48068, -431.21393, -435.46893, -434.359...</td>\n",
              "      <td>[-439.63873, 103.86223, -42.658787, 50.690285,...</td>\n",
              "      <td>2</td>\n",
              "      <td>100263-2-0-137.wav</td>\n",
              "      <td>children_playing</td>\n",
              "    </tr>\n",
              "    <tr>\n",
              "      <th>...</th>\n",
              "      <td>...</td>\n",
              "      <td>...</td>\n",
              "      <td>...</td>\n",
              "      <td>...</td>\n",
              "      <td>...</td>\n",
              "    </tr>\n",
              "    <tr>\n",
              "      <th>8727</th>\n",
              "      <td>[[-424.15533, -396.181, -399.4792, -400.9147, ...</td>\n",
              "      <td>[-391.3721, 125.36239, -40.634056, 25.899754, ...</td>\n",
              "      <td>1</td>\n",
              "      <td>99812-1-2-0.wav</td>\n",
              "      <td>car_horn</td>\n",
              "    </tr>\n",
              "    <tr>\n",
              "      <th>8728</th>\n",
              "      <td>[[-479.0948, -449.7615, -445.87476, -440.4198,...</td>\n",
              "      <td>[-339.42715, 76.409096, -35.30988, 41.984035, ...</td>\n",
              "      <td>1</td>\n",
              "      <td>99812-1-3-0.wav</td>\n",
              "      <td>car_horn</td>\n",
              "    </tr>\n",
              "    <tr>\n",
              "      <th>8729</th>\n",
              "      <td>[[-322.78165, -295.09012, -297.30344, -295.924...</td>\n",
              "      <td>[-297.31534, 102.09026, -36.75108, 26.816488, ...</td>\n",
              "      <td>1</td>\n",
              "      <td>99812-1-4-0.wav</td>\n",
              "      <td>car_horn</td>\n",
              "    </tr>\n",
              "    <tr>\n",
              "      <th>8730</th>\n",
              "      <td>[[-398.03085, -364.12985, -359.62103, -357.777...</td>\n",
              "      <td>[-336.92386, 115.3139, -44.84709, 24.968985, -...</td>\n",
              "      <td>1</td>\n",
              "      <td>99812-1-5-0.wav</td>\n",
              "      <td>car_horn</td>\n",
              "    </tr>\n",
              "    <tr>\n",
              "      <th>8731</th>\n",
              "      <td>[[-336.01422, -302.89465, -299.18787, -299.343...</td>\n",
              "      <td>[-307.41763, 83.306725, -25.756512, 35.44811, ...</td>\n",
              "      <td>1</td>\n",
              "      <td>99812-1-6-0.wav</td>\n",
              "      <td>car_horn</td>\n",
              "    </tr>\n",
              "  </tbody>\n",
              "</table>\n",
              "<p>8732 rows × 5 columns</p>\n",
              "</div>\n",
              "    <div class=\"colab-df-buttons\">\n",
              "\n",
              "  <div class=\"colab-df-container\">\n",
              "    <button class=\"colab-df-convert\" onclick=\"convertToInteractive('df-fd69e5b3-c14f-41f8-8c22-7ac8a0401c29')\"\n",
              "            title=\"Convert this dataframe to an interactive table.\"\n",
              "            style=\"display:none;\">\n",
              "\n",
              "  <svg xmlns=\"http://www.w3.org/2000/svg\" height=\"24px\" viewBox=\"0 -960 960 960\">\n",
              "    <path d=\"M120-120v-720h720v720H120Zm60-500h600v-160H180v160Zm220 220h160v-160H400v160Zm0 220h160v-160H400v160ZM180-400h160v-160H180v160Zm440 0h160v-160H620v160ZM180-180h160v-160H180v160Zm440 0h160v-160H620v160Z\"/>\n",
              "  </svg>\n",
              "    </button>\n",
              "\n",
              "  <style>\n",
              "    .colab-df-container {\n",
              "      display:flex;\n",
              "      gap: 12px;\n",
              "    }\n",
              "\n",
              "    .colab-df-convert {\n",
              "      background-color: #E8F0FE;\n",
              "      border: none;\n",
              "      border-radius: 50%;\n",
              "      cursor: pointer;\n",
              "      display: none;\n",
              "      fill: #1967D2;\n",
              "      height: 32px;\n",
              "      padding: 0 0 0 0;\n",
              "      width: 32px;\n",
              "    }\n",
              "\n",
              "    .colab-df-convert:hover {\n",
              "      background-color: #E2EBFA;\n",
              "      box-shadow: 0px 1px 2px rgba(60, 64, 67, 0.3), 0px 1px 3px 1px rgba(60, 64, 67, 0.15);\n",
              "      fill: #174EA6;\n",
              "    }\n",
              "\n",
              "    .colab-df-buttons div {\n",
              "      margin-bottom: 4px;\n",
              "    }\n",
              "\n",
              "    [theme=dark] .colab-df-convert {\n",
              "      background-color: #3B4455;\n",
              "      fill: #D2E3FC;\n",
              "    }\n",
              "\n",
              "    [theme=dark] .colab-df-convert:hover {\n",
              "      background-color: #434B5C;\n",
              "      box-shadow: 0px 1px 3px 1px rgba(0, 0, 0, 0.15);\n",
              "      filter: drop-shadow(0px 1px 2px rgba(0, 0, 0, 0.3));\n",
              "      fill: #FFFFFF;\n",
              "    }\n",
              "  </style>\n",
              "\n",
              "    <script>\n",
              "      const buttonEl =\n",
              "        document.querySelector('#df-fd69e5b3-c14f-41f8-8c22-7ac8a0401c29 button.colab-df-convert');\n",
              "      buttonEl.style.display =\n",
              "        google.colab.kernel.accessAllowed ? 'block' : 'none';\n",
              "\n",
              "      async function convertToInteractive(key) {\n",
              "        const element = document.querySelector('#df-fd69e5b3-c14f-41f8-8c22-7ac8a0401c29');\n",
              "        const dataTable =\n",
              "          await google.colab.kernel.invokeFunction('convertToInteractive',\n",
              "                                                    [key], {});\n",
              "        if (!dataTable) return;\n",
              "\n",
              "        const docLinkHtml = 'Like what you see? Visit the ' +\n",
              "          '<a target=\"_blank\" href=https://colab.research.google.com/notebooks/data_table.ipynb>data table notebook</a>'\n",
              "          + ' to learn more about interactive tables.';\n",
              "        element.innerHTML = '';\n",
              "        dataTable['output_type'] = 'display_data';\n",
              "        await google.colab.output.renderOutput(dataTable, element);\n",
              "        const docLink = document.createElement('div');\n",
              "        docLink.innerHTML = docLinkHtml;\n",
              "        element.appendChild(docLink);\n",
              "      }\n",
              "    </script>\n",
              "  </div>\n",
              "\n",
              "\n",
              "<div id=\"df-5383545c-25ca-47bf-a1c7-51d5d914fc68\">\n",
              "  <button class=\"colab-df-quickchart\" onclick=\"quickchart('df-5383545c-25ca-47bf-a1c7-51d5d914fc68')\"\n",
              "            title=\"Suggest charts\"\n",
              "            style=\"display:none;\">\n",
              "\n",
              "<svg xmlns=\"http://www.w3.org/2000/svg\" height=\"24px\"viewBox=\"0 0 24 24\"\n",
              "     width=\"24px\">\n",
              "    <g>\n",
              "        <path d=\"M19 3H5c-1.1 0-2 .9-2 2v14c0 1.1.9 2 2 2h14c1.1 0 2-.9 2-2V5c0-1.1-.9-2-2-2zM9 17H7v-7h2v7zm4 0h-2V7h2v10zm4 0h-2v-4h2v4z\"/>\n",
              "    </g>\n",
              "</svg>\n",
              "  </button>\n",
              "\n",
              "<style>\n",
              "  .colab-df-quickchart {\n",
              "      --bg-color: #E8F0FE;\n",
              "      --fill-color: #1967D2;\n",
              "      --hover-bg-color: #E2EBFA;\n",
              "      --hover-fill-color: #174EA6;\n",
              "      --disabled-fill-color: #AAA;\n",
              "      --disabled-bg-color: #DDD;\n",
              "  }\n",
              "\n",
              "  [theme=dark] .colab-df-quickchart {\n",
              "      --bg-color: #3B4455;\n",
              "      --fill-color: #D2E3FC;\n",
              "      --hover-bg-color: #434B5C;\n",
              "      --hover-fill-color: #FFFFFF;\n",
              "      --disabled-bg-color: #3B4455;\n",
              "      --disabled-fill-color: #666;\n",
              "  }\n",
              "\n",
              "  .colab-df-quickchart {\n",
              "    background-color: var(--bg-color);\n",
              "    border: none;\n",
              "    border-radius: 50%;\n",
              "    cursor: pointer;\n",
              "    display: none;\n",
              "    fill: var(--fill-color);\n",
              "    height: 32px;\n",
              "    padding: 0;\n",
              "    width: 32px;\n",
              "  }\n",
              "\n",
              "  .colab-df-quickchart:hover {\n",
              "    background-color: var(--hover-bg-color);\n",
              "    box-shadow: 0 1px 2px rgba(60, 64, 67, 0.3), 0 1px 3px 1px rgba(60, 64, 67, 0.15);\n",
              "    fill: var(--button-hover-fill-color);\n",
              "  }\n",
              "\n",
              "  .colab-df-quickchart-complete:disabled,\n",
              "  .colab-df-quickchart-complete:disabled:hover {\n",
              "    background-color: var(--disabled-bg-color);\n",
              "    fill: var(--disabled-fill-color);\n",
              "    box-shadow: none;\n",
              "  }\n",
              "\n",
              "  .colab-df-spinner {\n",
              "    border: 2px solid var(--fill-color);\n",
              "    border-color: transparent;\n",
              "    border-bottom-color: var(--fill-color);\n",
              "    animation:\n",
              "      spin 1s steps(1) infinite;\n",
              "  }\n",
              "\n",
              "  @keyframes spin {\n",
              "    0% {\n",
              "      border-color: transparent;\n",
              "      border-bottom-color: var(--fill-color);\n",
              "      border-left-color: var(--fill-color);\n",
              "    }\n",
              "    20% {\n",
              "      border-color: transparent;\n",
              "      border-left-color: var(--fill-color);\n",
              "      border-top-color: var(--fill-color);\n",
              "    }\n",
              "    30% {\n",
              "      border-color: transparent;\n",
              "      border-left-color: var(--fill-color);\n",
              "      border-top-color: var(--fill-color);\n",
              "      border-right-color: var(--fill-color);\n",
              "    }\n",
              "    40% {\n",
              "      border-color: transparent;\n",
              "      border-right-color: var(--fill-color);\n",
              "      border-top-color: var(--fill-color);\n",
              "    }\n",
              "    60% {\n",
              "      border-color: transparent;\n",
              "      border-right-color: var(--fill-color);\n",
              "    }\n",
              "    80% {\n",
              "      border-color: transparent;\n",
              "      border-right-color: var(--fill-color);\n",
              "      border-bottom-color: var(--fill-color);\n",
              "    }\n",
              "    90% {\n",
              "      border-color: transparent;\n",
              "      border-bottom-color: var(--fill-color);\n",
              "    }\n",
              "  }\n",
              "</style>\n",
              "\n",
              "  <script>\n",
              "    async function quickchart(key) {\n",
              "      const quickchartButtonEl =\n",
              "        document.querySelector('#' + key + ' button');\n",
              "      quickchartButtonEl.disabled = true;  // To prevent multiple clicks.\n",
              "      quickchartButtonEl.classList.add('colab-df-spinner');\n",
              "      try {\n",
              "        const charts = await google.colab.kernel.invokeFunction(\n",
              "            'suggestCharts', [key], {});\n",
              "      } catch (error) {\n",
              "        console.error('Error during call to suggestCharts:', error);\n",
              "      }\n",
              "      quickchartButtonEl.classList.remove('colab-df-spinner');\n",
              "      quickchartButtonEl.classList.add('colab-df-quickchart-complete');\n",
              "    }\n",
              "    (() => {\n",
              "      let quickchartButtonEl =\n",
              "        document.querySelector('#df-5383545c-25ca-47bf-a1c7-51d5d914fc68 button');\n",
              "      quickchartButtonEl.style.display =\n",
              "        google.colab.kernel.accessAllowed ? 'block' : 'none';\n",
              "    })();\n",
              "  </script>\n",
              "</div>\n",
              "    </div>\n",
              "  </div>\n"
            ],
            "text/plain": [
              "                                                   mfcc  \\\n",
              "0     [[-332.0388, -169.58775, -90.246826, -56.92347...   \n",
              "1     [[-486.0561, -447.30463, -441.84772, -436.2216...   \n",
              "2     [[-492.76328, -465.86954, -473.96152, -480.512...   \n",
              "3     [[-441.2638, -405.2567, -401.20792, -400.8395,...   \n",
              "4     [[-467.48068, -431.21393, -435.46893, -434.359...   \n",
              "...                                                 ...   \n",
              "8727  [[-424.15533, -396.181, -399.4792, -400.9147, ...   \n",
              "8728  [[-479.0948, -449.7615, -445.87476, -440.4198,...   \n",
              "8729  [[-322.78165, -295.09012, -297.30344, -295.924...   \n",
              "8730  [[-398.03085, -364.12985, -359.62103, -357.777...   \n",
              "8731  [[-336.01422, -302.89465, -299.18787, -299.343...   \n",
              "\n",
              "                                              mfcc_mean  classid  \\\n",
              "0     [-211.93698, 62.581215, -122.813156, -60.74529...        3   \n",
              "1     [-417.0052, 99.336624, -42.995586, 51.073326, ...        2   \n",
              "2     [-452.39316, 112.36253, -37.578075, 43.195866,...        2   \n",
              "3     [-406.47922, 91.1966, -25.043556, 42.78452, 11...        2   \n",
              "4     [-439.63873, 103.86223, -42.658787, 50.690285,...        2   \n",
              "...                                                 ...      ...   \n",
              "8727  [-391.3721, 125.36239, -40.634056, 25.899754, ...        1   \n",
              "8728  [-339.42715, 76.409096, -35.30988, 41.984035, ...        1   \n",
              "8729  [-297.31534, 102.09026, -36.75108, 26.816488, ...        1   \n",
              "8730  [-336.92386, 115.3139, -44.84709, 24.968985, -...        1   \n",
              "8731  [-307.41763, 83.306725, -25.756512, 35.44811, ...        1   \n",
              "\n",
              "              audio_name        class_name  \n",
              "0       100032-3-0-0.wav          dog_bark  \n",
              "1     100263-2-0-117.wav  children_playing  \n",
              "2     100263-2-0-121.wav  children_playing  \n",
              "3     100263-2-0-126.wav  children_playing  \n",
              "4     100263-2-0-137.wav  children_playing  \n",
              "...                  ...               ...  \n",
              "8727     99812-1-2-0.wav          car_horn  \n",
              "8728     99812-1-3-0.wav          car_horn  \n",
              "8729     99812-1-4-0.wav          car_horn  \n",
              "8730     99812-1-5-0.wav          car_horn  \n",
              "8731     99812-1-6-0.wav          car_horn  \n",
              "\n",
              "[8732 rows x 5 columns]"
            ]
          },
          "execution_count": 42,
          "metadata": {},
          "output_type": "execute_result"
        }
      ],
      "source": [
        "feature_dataframe"
      ]
    },
    {
      "cell_type": "code",
      "execution_count": null,
      "metadata": {
        "id": "O5blxE_c4Y4Y"
      },
      "outputs": [],
      "source": [
        "feature_dataframe.to_csv('final_dataframe.csv')"
      ]
    },
    {
      "cell_type": "code",
      "execution_count": null,
      "metadata": {
        "id": "OKpx8ET04ict"
      },
      "outputs": [],
      "source": [
        "project_path = '/content/drive/MyDrive/learn_audio-classification'\n",
        "\n",
        "!cp '/content/final_dataframe.csv' '/content/drive/MyDrive/learn_audio-classification'"
      ]
    },
    {
      "cell_type": "code",
      "execution_count": null,
      "metadata": {
        "colab": {
          "base_uri": "https://localhost:8080/"
        },
        "id": "mVbdrorY44y2",
        "outputId": "a61302b2-77ee-4139-ae11-5092620dba5d"
      },
      "outputs": [
        {
          "data": {
            "text/plain": [
              "(8732, 40)"
            ]
          },
          "execution_count": 47,
          "metadata": {},
          "output_type": "execute_result"
        }
      ],
      "source": [
        "x_mfcc_mean_array = np.array(x_mfcc_mean)\n",
        "x_mfcc_mean_array.shape"
      ]
    },
    {
      "cell_type": "code",
      "execution_count": 49,
      "metadata": {
        "id": "09edbyhG6KEi"
      },
      "outputs": [],
      "source": [
        "from sklearn.model_selection import train_test_split\n",
        "from tensorflow.keras.utils import to_categorical"
      ]
    },
    {
      "cell_type": "code",
      "execution_count": 50,
      "metadata": {
        "colab": {
          "base_uri": "https://localhost:8080/"
        },
        "id": "NE6Awild7VnQ",
        "outputId": "a40b4652-ade2-4bc1-9b89-be62ad9f8d2a"
      },
      "outputs": [
        {
          "data": {
            "text/plain": [
              "(8732, 10)"
            ]
          },
          "execution_count": 50,
          "metadata": {},
          "output_type": "execute_result"
        }
      ],
      "source": [
        "y = to_categorical(y)\n",
        "y.shape"
      ]
    },
    {
      "cell_type": "code",
      "execution_count": 51,
      "metadata": {
        "id": "Cz4jkbks5RIV"
      },
      "outputs": [],
      "source": [
        "x_train, x_test, y_train, y_test = train_test_split(x_mfcc_mean_array, y, test_size=0.2, random_state=0)"
      ]
    },
    {
      "cell_type": "code",
      "execution_count": 56,
      "metadata": {
        "colab": {
          "base_uri": "https://localhost:8080/"
        },
        "id": "zf8IxU3d7yfc",
        "outputId": "05a0ae75-df9e-40b4-e760-0e7ac2bda713"
      },
      "outputs": [
        {
          "data": {
            "text/plain": [
              "dog_bark            1000\n",
              "children_playing    1000\n",
              "air_conditioner     1000\n",
              "street_music        1000\n",
              "engine_idling       1000\n",
              "jackhammer          1000\n",
              "drilling            1000\n",
              "siren                929\n",
              "car_horn             429\n",
              "gun_shot             374\n",
              "Name: class_name, dtype: int64"
            ]
          },
          "execution_count": 56,
          "metadata": {},
          "output_type": "execute_result"
        }
      ],
      "source": [
        "feature_dataframe['class_name'].value_counts()"
      ]
    },
    {
      "cell_type": "code",
      "execution_count": 57,
      "metadata": {
        "colab": {
          "base_uri": "https://localhost:8080/"
        },
        "id": "wokwHWR18BC7",
        "outputId": "14c39e66-9877-4674-96ec-385803c0e2d1"
      },
      "outputs": [
        {
          "data": {
            "text/plain": [
              "((6985, 40), (1747, 40), (6985, 10), (1747, 10))"
            ]
          },
          "execution_count": 57,
          "metadata": {},
          "output_type": "execute_result"
        }
      ],
      "source": [
        "x_train.shape, x_test.shape, y_train.shape, y_test.shape"
      ]
    },
    {
      "cell_type": "code",
      "execution_count": 63,
      "metadata": {
        "id": "16Nykv6i8fkV"
      },
      "outputs": [],
      "source": [
        "from tensorflow.keras.models import Sequential\n",
        "from tensorflow.keras.layers import Dense\n",
        "from tensorflow.keras.callbacks import EarlyStopping\n",
        "\n",
        "callback = EarlyStopping(monitor='val_accuracy', patience=4)\n",
        "\n",
        "model = Sequential()\n",
        "model.add(Dense(1000, input_shape = (40,)))\n",
        "model.add(Dense(500, activation = 'relu'))\n",
        "model.add(Dense(100, activation = 'relu'))\n",
        "model.add(Dense(10, activation = 'softmax'))\n",
        "\n",
        "model.compile(loss=\"categorical_crossentropy\", optimizer=\"adam\", metrics=[\"accuracy\"])\n"
      ]
    },
    {
      "cell_type": "code",
      "execution_count": 64,
      "metadata": {
        "colab": {
          "base_uri": "https://localhost:8080/"
        },
        "id": "QDg7hdDt9TuB",
        "outputId": "9bdeb20a-8878-40a9-8757-8ecc3e3824c2"
      },
      "outputs": [
        {
          "name": "stdout",
          "output_type": "stream",
          "text": [
            "Epoch 1/100\n",
            "56/56 [==============================] - 3s 26ms/step - loss: 5.7808 - accuracy: 0.3357 - val_loss: 1.6008 - val_accuracy: 0.5118\n",
            "Epoch 2/100\n",
            "56/56 [==============================] - 1s 18ms/step - loss: 1.4711 - accuracy: 0.5395 - val_loss: 1.3943 - val_accuracy: 0.5648\n",
            "Epoch 3/100\n",
            "56/56 [==============================] - 1s 18ms/step - loss: 1.4253 - accuracy: 0.5526 - val_loss: 1.4432 - val_accuracy: 0.5218\n",
            "Epoch 4/100\n",
            "56/56 [==============================] - 1s 17ms/step - loss: 1.2546 - accuracy: 0.5947 - val_loss: 1.2306 - val_accuracy: 0.6092\n",
            "Epoch 5/100\n",
            "56/56 [==============================] - 1s 17ms/step - loss: 1.1259 - accuracy: 0.6380 - val_loss: 1.1371 - val_accuracy: 0.6342\n",
            "Epoch 6/100\n",
            "56/56 [==============================] - 1s 17ms/step - loss: 1.0608 - accuracy: 0.6621 - val_loss: 1.2672 - val_accuracy: 0.5991\n",
            "Epoch 7/100\n",
            "56/56 [==============================] - 1s 18ms/step - loss: 1.0024 - accuracy: 0.6756 - val_loss: 1.1001 - val_accuracy: 0.6557\n",
            "Epoch 8/100\n",
            "56/56 [==============================] - 1s 16ms/step - loss: 0.8981 - accuracy: 0.7142 - val_loss: 1.0097 - val_accuracy: 0.6671\n",
            "Epoch 9/100\n",
            "56/56 [==============================] - 1s 16ms/step - loss: 0.8491 - accuracy: 0.7232 - val_loss: 1.0045 - val_accuracy: 0.6700\n",
            "Epoch 10/100\n",
            "56/56 [==============================] - 1s 17ms/step - loss: 0.8204 - accuracy: 0.7350 - val_loss: 0.9882 - val_accuracy: 0.6872\n",
            "Epoch 11/100\n",
            "56/56 [==============================] - 1s 18ms/step - loss: 0.7701 - accuracy: 0.7509 - val_loss: 0.8563 - val_accuracy: 0.7266\n",
            "Epoch 12/100\n",
            "56/56 [==============================] - 1s 26ms/step - loss: 0.7086 - accuracy: 0.7711 - val_loss: 0.8234 - val_accuracy: 0.7387\n",
            "Epoch 13/100\n",
            "56/56 [==============================] - 2s 27ms/step - loss: 0.6517 - accuracy: 0.7874 - val_loss: 0.7405 - val_accuracy: 0.7645\n",
            "Epoch 14/100\n",
            "56/56 [==============================] - 1s 26ms/step - loss: 0.6242 - accuracy: 0.7938 - val_loss: 0.8402 - val_accuracy: 0.7373\n",
            "Epoch 15/100\n",
            "56/56 [==============================] - 1s 18ms/step - loss: 0.6098 - accuracy: 0.7978 - val_loss: 0.6701 - val_accuracy: 0.7817\n",
            "Epoch 16/100\n",
            "56/56 [==============================] - 1s 17ms/step - loss: 0.5432 - accuracy: 0.8180 - val_loss: 0.6956 - val_accuracy: 0.7767\n",
            "Epoch 17/100\n",
            "56/56 [==============================] - 1s 19ms/step - loss: 0.5324 - accuracy: 0.8155 - val_loss: 0.6596 - val_accuracy: 0.7838\n",
            "Epoch 18/100\n",
            "56/56 [==============================] - 1s 17ms/step - loss: 0.4859 - accuracy: 0.8372 - val_loss: 0.6301 - val_accuracy: 0.7838\n",
            "Epoch 19/100\n",
            "56/56 [==============================] - 1s 18ms/step - loss: 0.4860 - accuracy: 0.8359 - val_loss: 0.6566 - val_accuracy: 0.7903\n",
            "Epoch 20/100\n",
            "56/56 [==============================] - 1s 18ms/step - loss: 0.4536 - accuracy: 0.8452 - val_loss: 0.6480 - val_accuracy: 0.8010\n",
            "Epoch 21/100\n",
            "56/56 [==============================] - 1s 16ms/step - loss: 0.4065 - accuracy: 0.8649 - val_loss: 0.6414 - val_accuracy: 0.8039\n",
            "Epoch 22/100\n",
            "56/56 [==============================] - 1s 18ms/step - loss: 0.3519 - accuracy: 0.8842 - val_loss: 0.5955 - val_accuracy: 0.8218\n",
            "Epoch 23/100\n",
            "56/56 [==============================] - 1s 17ms/step - loss: 0.3347 - accuracy: 0.8864 - val_loss: 0.5820 - val_accuracy: 0.8239\n",
            "Epoch 24/100\n",
            "56/56 [==============================] - 1s 18ms/step - loss: 0.3268 - accuracy: 0.8898 - val_loss: 0.5581 - val_accuracy: 0.8189\n",
            "Epoch 25/100\n",
            "56/56 [==============================] - 1s 26ms/step - loss: 0.3000 - accuracy: 0.9018 - val_loss: 0.5778 - val_accuracy: 0.8253\n",
            "Epoch 26/100\n",
            "56/56 [==============================] - 2s 27ms/step - loss: 0.2814 - accuracy: 0.9068 - val_loss: 0.5456 - val_accuracy: 0.8432\n",
            "Epoch 27/100\n",
            "56/56 [==============================] - 1s 26ms/step - loss: 0.2854 - accuracy: 0.9071 - val_loss: 0.5777 - val_accuracy: 0.8296\n",
            "Epoch 28/100\n",
            "56/56 [==============================] - 1s 18ms/step - loss: 0.2440 - accuracy: 0.9205 - val_loss: 0.5319 - val_accuracy: 0.8504\n",
            "Epoch 29/100\n",
            "56/56 [==============================] - 1s 16ms/step - loss: 0.2229 - accuracy: 0.9298 - val_loss: 0.5484 - val_accuracy: 0.8440\n",
            "Epoch 30/100\n",
            "56/56 [==============================] - 1s 18ms/step - loss: 0.2431 - accuracy: 0.9188 - val_loss: 0.5991 - val_accuracy: 0.8425\n",
            "Epoch 31/100\n",
            "56/56 [==============================] - 1s 18ms/step - loss: 0.2159 - accuracy: 0.9279 - val_loss: 0.6002 - val_accuracy: 0.8368\n",
            "Epoch 32/100\n",
            "56/56 [==============================] - 1s 17ms/step - loss: 0.2269 - accuracy: 0.9243 - val_loss: 0.6026 - val_accuracy: 0.8368\n"
          ]
        }
      ],
      "source": [
        "history = model.fit(x_train, y_train, batch_size = 100, epochs = 100, validation_split = 0.2, callbacks=[callback])"
      ]
    },
    {
      "cell_type": "code",
      "execution_count": 65,
      "metadata": {
        "colab": {
          "base_uri": "https://localhost:8080/"
        },
        "id": "RgDVOpQs9dKA",
        "outputId": "756661dc-5826-4cca-b856-90c8b2404d7f"
      },
      "outputs": [
        {
          "name": "stdout",
          "output_type": "stream",
          "text": [
            "55/55 [==============================] - 0s 6ms/step - loss: 0.6287 - accuracy: 0.8449\n",
            "Test accuracy: 0.8448769450187683\n"
          ]
        }
      ],
      "source": [
        "test_loss, test_acc = model.evaluate(x_test, y_test)\n",
        "print(\"Test accuracy:\", test_acc)"
      ]
    },
    {
      "cell_type": "code",
      "execution_count": null,
      "metadata": {
        "id": "GBtq3vLr9lGe"
      },
      "outputs": [],
      "source": []
    }
  ],
  "metadata": {
    "colab": {
      "provenance": []
    },
    "kernelspec": {
      "display_name": "Python 3",
      "name": "python3"
    },
    "language_info": {
      "name": "python"
    }
  },
  "nbformat": 4,
  "nbformat_minor": 0
}
